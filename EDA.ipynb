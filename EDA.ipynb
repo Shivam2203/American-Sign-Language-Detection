{
 "cells": [
  {
   "cell_type": "markdown",
   "id": "cec7167d",
   "metadata": {},
   "source": [
    "**Import Library**"
   ]
  },
  {
   "cell_type": "code",
   "execution_count": 1,
   "id": "b009ef00",
   "metadata": {},
   "outputs": [],
   "source": [
    "import random\n",
    "import calendar\n",
    "import pandas as pd\n",
    "import numpy as np\n",
    "import seaborn as sns\n",
    "import matplotlib.pyplot as plt\n",
    "from scipy.stats import norm, skew, ttest_ind\n",
    "import warnings\n",
    "warnings.filterwarnings('ignore')"
   ]
  },
  
  
